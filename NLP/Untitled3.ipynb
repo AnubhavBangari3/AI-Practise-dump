{
 "cells": [
  {
   "cell_type": "code",
   "execution_count": 1,
   "metadata": {},
   "outputs": [],
   "source": [
    "import spacy"
   ]
  },
  {
   "cell_type": "code",
   "execution_count": 2,
   "metadata": {},
   "outputs": [],
   "source": [
    "from spacy.matcher import Matcher"
   ]
  },
  {
   "cell_type": "code",
   "execution_count": 3,
   "metadata": {},
   "outputs": [],
   "source": [
    "nlp = spacy.load(\"en_core_web_sm\")\n",
    "matcher = Matcher(nlp.vocab)\n",
    "pattern = [{\"LIKE_EMAIL\": True}]\n",
    "matcher.add(\"EMAIL_ADDRESS\", [pattern])\n",
    "doc = nlp(\"This is an email address: wmattingly@aol.com\")\n",
    "matches = matcher(doc)"
   ]
  },
  {
   "cell_type": "code",
   "execution_count": 4,
   "metadata": {},
   "outputs": [
    {
     "name": "stdout",
     "output_type": "stream",
     "text": [
      "[(16571425990740197027, 6, 7)]\n"
     ]
    }
   ],
   "source": [
    "print(matches)"
   ]
  },
  {
   "cell_type": "code",
   "execution_count": 5,
   "metadata": {},
   "outputs": [
    {
     "name": "stdout",
     "output_type": "stream",
     "text": [
      "EMAIL_ADDRESS\n"
     ]
    }
   ],
   "source": [
    "print (nlp.vocab[matches[0][0]].text)"
   ]
  },
  {
   "cell_type": "code",
   "execution_count": 6,
   "metadata": {},
   "outputs": [],
   "source": [
    "with open(\"2.txt\") as f:\n",
    "    text=f.read()"
   ]
  },
  {
   "cell_type": "code",
   "execution_count": 7,
   "metadata": {},
   "outputs": [
    {
     "name": "stdout",
     "output_type": "stream",
     "text": [
      "\n",
      "\n",
      "Martin Luther King Jr. (born Michael King Jr.; January 15, 1929 â€“ April 4, 1968) was an American Baptist minister and activist who became the most visible spokesman and leader in the American civil rights movement from 1955 until his assassination in 1968. King advanced civil rights through nonviolence and civil disobedience, inspired by his Christian beliefs and the nonviolent activism of Mahatma Gandhi. He was the son of early civil rights activist and minister Martin Luther King Sr.\n",
      "\n",
      "King participated in and led marches for blacks' right to vote, desegregation, labor rights, and other basic civil rights.[1] King led the 1955 Montgomery bus boycott and later became the first president of the Southern Christian Leadership Conference (SCLC). As president of the SCLC, he led the unsuccessful Albany Movement in Albany, Georgia, and helped organize some of the nonviolent 1963 protests in Birmingham, Alabama. King helped organize the 1963 March on Washington, where he delivered his \"I Have a Dream\" speech on the steps of the Lincoln Memorial.\n",
      "\n",
      "The SCLC put into practice the tactics of nonviolent protest with some success by strategically choosing the methods and places in which protests were carried out. There were several dramatic stand-offs with segregationist authorities, who sometimes turned violent.[2] Federal Bureau of Investigation (FBI) Director J. Edgar Hoover considered King a radical and made him an object of the FBI's COINTELPRO from 1963, forward. FBI agents investigated him for possible communist ties, recorded his extramarital affairs and reported on them to government officials, and, in 1964, mailed King a threatening anonymous letter, which he interpreted as an attempt to make him commit suicide.[3]\n",
      "\n",
      "On October 14, 1964, King won the Nobel Peace Prize for combating racial inequality through nonviolent resistance. In 1965, he helped organize two of the three Selma to Montgomery marches. In his final years, he expanded his focus to include opposition towards poverty, capitalism, and the Vietnam War.\n",
      "\n",
      "In 1968, King was planning a national occupation of Washington, D.C., to be called the Poor People's Campaign, when he was assassinated on April 4 in Memphis, Tennessee. His death was followed by riots in many U.S. cities. Allegations that James Earl Ray, the man convicted of killing King, had been framed or acted in concert with government agents persisted for decades after the shooting. King was posthumously awarded the Presidential Medal of Freedom in 1977 and the Congressional Gold Medal in 2003. Martin Luther King Jr. Day was established as a holiday in cities and states throughout the United States beginning in 1971; the holiday was enacted at the federal level by legislation signed by President Ronald Reagan in 1986. Hundreds of streets in the U.S. have been renamed in his honor, and the most populous county in Washington State was rededicated for him. The Martin Luther King Jr. Memorial on the National Mall in Washington, D.C., was dedicated in 2011. \n"
     ]
    }
   ],
   "source": [
    "print(text)"
   ]
  },
  {
   "cell_type": "code",
   "execution_count": 8,
   "metadata": {},
   "outputs": [],
   "source": [
    "nlp=spacy.load(\"en_core_web_sm\")"
   ]
  },
  {
   "cell_type": "code",
   "execution_count": 9,
   "metadata": {},
   "outputs": [
    {
     "name": "stdout",
     "output_type": "stream",
     "text": [
      "103\n",
      "(451313080118390996, 1, 2) Martin\n",
      "(451313080118390996, 2, 3) Luther\n",
      "(451313080118390996, 3, 4) King\n",
      "(451313080118390996, 4, 5) Jr.\n",
      "(451313080118390996, 7, 8) Michael\n",
      "(451313080118390996, 8, 9) King\n",
      "(451313080118390996, 9, 10) Jr.\n",
      "(451313080118390996, 11, 12) January\n",
      "(451313080118390996, 17, 18) April\n",
      "(451313080118390996, 24, 25) American\n"
     ]
    }
   ],
   "source": [
    "matcher=Matcher(nlp.vocab)\n",
    "pattern=[\n",
    "    {\"POS\":\"PROPN\"}\n",
    "]\n",
    "matcher.add(\"PROPER_NOUN\",[pattern])\n",
    "\n",
    "doc=nlp(text)\n",
    "matches=matcher(doc)\n",
    "print(len(matches))\n",
    "\n",
    "for match in matches[:10]:\n",
    "    print(match,doc[match[1]:match[2]])"
   ]
  },
  {
   "cell_type": "code",
   "execution_count": 10,
   "metadata": {},
   "outputs": [
    {
     "name": "stdout",
     "output_type": "stream",
     "text": [
      "173\n",
      "(451313080118390996, 1, 2) Martin\n",
      "(451313080118390996, 1, 3) Martin Luther\n",
      "(451313080118390996, 2, 3) Luther\n",
      "(451313080118390996, 1, 4) Martin Luther King\n",
      "(451313080118390996, 2, 4) Luther King\n",
      "(451313080118390996, 3, 4) King\n",
      "(451313080118390996, 1, 5) Martin Luther King Jr.\n",
      "(451313080118390996, 2, 5) Luther King Jr.\n",
      "(451313080118390996, 3, 5) King Jr.\n",
      "(451313080118390996, 4, 5) Jr.\n"
     ]
    }
   ],
   "source": [
    "matcher=Matcher(nlp.vocab)\n",
    "pattern=[\n",
    "    {\"POS\":\"PROPN\",\"OP\":\"+\"}\n",
    "]\n",
    "matcher.add(\"PROPER_NOUN\",[pattern])\n",
    "\n",
    "doc=nlp(text)\n",
    "matches=matcher(doc)\n",
    "print(len(matches))\n",
    "\n",
    "for match in matches[:10]:\n",
    "    print(match,doc[match[1]:match[2]])"
   ]
  },
  {
   "cell_type": "code",
   "execution_count": 11,
   "metadata": {},
   "outputs": [
    {
     "name": "stdout",
     "output_type": "stream",
     "text": [
      "62\n",
      "(451313080118390996, 470, 475) Martin Luther King Jr. Day\n",
      "(451313080118390996, 537, 542) Martin Luther King Jr. Memorial\n",
      "(451313080118390996, 1, 5) Martin Luther King Jr.\n",
      "(451313080118390996, 85, 89) Martin Luther King Sr\n",
      "(451313080118390996, 130, 134) Southern Christian Leadership Conference\n",
      "(451313080118390996, 248, 252) Director J. Edgar Hoover\n",
      "(451313080118390996, 7, 10) Michael King Jr.\n",
      "(451313080118390996, 326, 329) Nobel Peace Prize\n",
      "(451313080118390996, 423, 426) James Earl Ray\n",
      "(451313080118390996, 464, 467) Congressional Gold Medal\n"
     ]
    }
   ],
   "source": [
    "matcher=Matcher(nlp.vocab)\n",
    "pattern=[\n",
    "    {\"POS\":\"PROPN\",\"OP\":\"+\"}\n",
    "]\n",
    "matcher.add(\"PROPER_NOUN\",[pattern],greedy=\"LONGEST\")\n",
    "\n",
    "doc=nlp(text)\n",
    "matches=matcher(doc)\n",
    "print(len(matches))\n",
    "\n",
    "for match in matches[:10]:\n",
    "    print(match,doc[match[1]:match[2]])"
   ]
  },
  {
   "cell_type": "code",
   "execution_count": 12,
   "metadata": {},
   "outputs": [
    {
     "name": "stdout",
     "output_type": "stream",
     "text": [
      "62\n",
      "(451313080118390996, 1, 5) Martin Luther King Jr.\n",
      "(451313080118390996, 7, 10) Michael King Jr.\n",
      "(451313080118390996, 11, 12) January\n",
      "(451313080118390996, 17, 18) April\n",
      "(451313080118390996, 24, 26) American Baptist\n",
      "(451313080118390996, 51, 52) King\n",
      "(451313080118390996, 71, 73) Mahatma Gandhi\n",
      "(451313080118390996, 85, 89) Martin Luther King Sr\n",
      "(451313080118390996, 91, 92) King\n",
      "(451313080118390996, 115, 116) King\n"
     ]
    }
   ],
   "source": [
    " matcher=Matcher(nlp.vocab)\n",
    "pattern=[\n",
    "    {\"POS\":\"PROPN\",\"OP\":\"+\"}\n",
    "]\n",
    "matcher.add(\"PROPER_NOUN\",[pattern],greedy=\"LONGEST\")\n",
    "\n",
    "doc=nlp(text)\n",
    "matches=matcher(doc)\n",
    "matches.sort(key= lambda x:x[1])\n",
    "print(len(matches))\n",
    "\n",
    "for match in matches[:10]:\n",
    "    print(match,doc[match[1]:match[2]])"
   ]
  },
  {
   "cell_type": "code",
   "execution_count": 13,
   "metadata": {},
   "outputs": [
    {
     "name": "stdout",
     "output_type": "stream",
     "text": [
      "50\n",
      "(451313080118390996, 6, 7) born\n",
      "(451313080118390996, 30, 31) became\n",
      "(451313080118390996, 52, 53) advanced\n",
      "(451313080118390996, 61, 62) inspired\n",
      "(451313080118390996, 92, 93) participated\n",
      "(451313080118390996, 95, 96) led\n",
      "(451313080118390996, 102, 103) vote\n",
      "(451313080118390996, 116, 117) led\n",
      "(451313080118390996, 124, 125) became\n",
      "(451313080118390996, 145, 146) led\n"
     ]
    }
   ],
   "source": [
    " matcher=Matcher(nlp.vocab)\n",
    "pattern=[\n",
    "    {\"POS\":\"PROPN\",\"OP\":\"+\",\"POS\":\"VERB\"}\n",
    "]\n",
    "matcher.add(\"PROPER_NOUN\",[pattern],greedy=\"LONGEST\")\n",
    "\n",
    "doc=nlp(text)\n",
    "matches=matcher(doc)\n",
    "matches.sort(key= lambda x:x[1])\n",
    "print(len(matches))\n",
    "\n",
    "for match in matches[:10]:\n",
    "    print(match,doc[match[1]:match[2]])"
   ]
  },
  {
   "cell_type": "code",
   "execution_count": 15,
   "metadata": {},
   "outputs": [],
   "source": [
    "import json\n",
    "with open(\"alice.json\",\"r\") as f:\n",
    "    data=json.load(f)"
   ]
  },
  {
   "cell_type": "code",
   "execution_count": 16,
   "metadata": {},
   "outputs": [
    {
     "name": "stdout",
     "output_type": "stream",
     "text": [
      "Alice was beginning to get very tired of sitting by her sister on the bank, and of having nothing to do: once or twice she had peeped into the book her sister was reading, but it had no pictures or conversations in it, `and what is the use of a book,' thought Alice `without pictures or conversation?'\n"
     ]
    }
   ],
   "source": [
    "text=data[0][2][0]\n",
    "print(text)"
   ]
  },
  {
   "cell_type": "code",
   "execution_count": 17,
   "metadata": {},
   "outputs": [
    {
     "name": "stdout",
     "output_type": "stream",
     "text": [
      "Alice was beginning to get very tired of sitting by her sister on the bank, and of having nothing to do: once or twice she had peeped into the book her sister was reading, but it had no pictures or conversations in it, 'and what is the use of a book,' thought Alice 'without pictures or conversation?'\n"
     ]
    }
   ],
   "source": [
    "text=text.replace(\"`\",\"'\")\n",
    "print(text)"
   ]
  },
  {
   "cell_type": "code",
   "execution_count": 18,
   "metadata": {},
   "outputs": [
    {
     "name": "stdout",
     "output_type": "stream",
     "text": [
      "2\n",
      "(451313080118390996, 47, 58) 'and what is the use of a book,'\n",
      "(451313080118390996, 60, 67) 'without pictures or conversation?'\n"
     ]
    }
   ],
   "source": [
    " matcher=Matcher(nlp.vocab)\n",
    "pattern=[\n",
    "    {\n",
    "        \"ORTH\":\"'\"\n",
    "    },\n",
    "    {\"IS_ALPHA\":True,\"OP\":\"+\"},\n",
    "    {\"IS_PUNCT\":True,\"OP\":\"+\"},\n",
    "    {\"ORTH\":\"'\"}\n",
    "]\n",
    "matcher.add(\"PROPER_NOUN\",[pattern],greedy=\"LONGEST\")\n",
    "\n",
    "doc=nlp(text)\n",
    "matches=matcher(doc)\n",
    "matches.sort(key= lambda x:x[1])\n",
    "print(len(matches))\n",
    "\n",
    "for match in matches[:10]:\n",
    "    print(match,doc[match[1]:match[2]])"
   ]
  },
  {
   "cell_type": "code",
   "execution_count": 21,
   "metadata": {},
   "outputs": [
    {
     "name": "stdout",
     "output_type": "stream",
     "text": [
      "1\n",
      "(451313080118390996, 47, 67) 'and what is the use of a book,' thought Alice 'without pictures or conversation?'\n"
     ]
    }
   ],
   "source": [
    "speak_lemmas=[\"think\",\"say\"]    \n",
    "matcher=Matcher(nlp.vocab)\n",
    "pattern=[\n",
    "    {\n",
    "        \"ORTH\":\"'\"\n",
    "    },\n",
    "    {\"IS_ALPHA\":True,\"OP\":\"+\"},\n",
    "    {\"IS_PUNCT\":True,\"OP\":\"+\"},\n",
    "    {\"ORTH\":\"'\"},\n",
    "    {\"POS\":\"VERB\",\"LEMMA\":{\"IN\":speak_lemmas}},\n",
    "    {\"POS\":\"PROPN\",\"OP\":\"+\"},\n",
    "    {\n",
    "        \"ORTH\":\"'\"\n",
    "    },\n",
    "    {\"IS_ALPHA\":True,\"OP\":\"+\"},\n",
    "    {\"IS_PUNCT\":True,\"OP\":\"+\"},\n",
    "    {\"ORTH\":\"'\"},\n",
    "]\n",
    "matcher.add(\"PROPER_NOUN\",[pattern],greedy=\"LONGEST\")\n",
    "\n",
    "doc=nlp(text)\n",
    "matches=matcher(doc)\n",
    "matches.sort(key= lambda x:x[1])\n",
    "print(len(matches))\n",
    "\n",
    "for match in matches[:10]:\n",
    "    print(match,doc[match[1]:match[2]])"
   ]
  },
  {
   "cell_type": "code",
   "execution_count": 24,
   "metadata": {},
   "outputs": [
    {
     "name": "stdout",
     "output_type": "stream",
     "text": [
      "1\n",
      "(451313080118390996, 47, 67) 'and what is the use of a book,' thought Alice 'without pictures or conversation?'\n",
      "0\n",
      "0\n",
      "0\n",
      "0\n",
      "0\n",
      "0\n",
      "0\n",
      "0\n",
      "0\n",
      "0\n",
      "0\n",
      "0\n",
      "0\n",
      "0\n",
      "0\n",
      "0\n"
     ]
    }
   ],
   "source": [
    "for text in data[0][2]:\n",
    "    text=text.replace(\"`\",\"'\")\n",
    "    doc=nlp(text)\n",
    "    matches=matcher(doc)\n",
    "    print(len(matches))\n",
    "    matches.sort(key = lambda x:x[1])\n",
    "    \n",
    "    for match in matches[:10]:\n",
    "        print(match,doc[match[1]:match[2]])"
   ]
  },
  {
   "cell_type": "code",
   "execution_count": 25,
   "metadata": {},
   "outputs": [
    {
     "name": "stdout",
     "output_type": "stream",
     "text": [
      "1\n",
      "(3232560085755078826, 47, 67) 'and what is the use of a book,' thought Alice 'without pictures or conversation?'\n",
      "0\n",
      "0\n",
      "0\n",
      "0\n",
      "0\n",
      "1\n",
      "(3232560085755078826, 0, 6) 'Well!' thought Alice\n",
      "0\n",
      "0\n",
      "0\n",
      "0\n",
      "0\n",
      "0\n",
      "0\n",
      "1\n",
      "(3232560085755078826, 57, 68) 'which certainly was not here before,' said Alice\n",
      "0\n",
      "0\n"
     ]
    }
   ],
   "source": [
    "speak_lemmas = [\"think\", \"say\"]\n",
    "text = data[0][2][0].replace( \"`\", \"'\")\n",
    "matcher = Matcher(nlp.vocab)\n",
    "pattern1 = [{'ORTH': \"'\"}, {'IS_ALPHA': True, \"OP\": \"+\"}, {'IS_PUNCT': True, \"OP\": \"*\"}, {'ORTH': \"'\"}, {\"POS\": \"VERB\", \"LEMMA\": {\"IN\": speak_lemmas}}, {\"POS\": \"PROPN\", \"OP\": \"+\"}, {'ORTH': \"'\"}, {'IS_ALPHA': True, \"OP\": \"+\"}, {'IS_PUNCT': True, \"OP\": \"*\"}, {'ORTH': \"'\"}]\n",
    "pattern2 = [{'ORTH': \"'\"}, {'IS_ALPHA': True, \"OP\": \"+\"}, {'IS_PUNCT': True, \"OP\": \"*\"}, {'ORTH': \"'\"}, {\"POS\": \"VERB\", \"LEMMA\": {\"IN\": speak_lemmas}}, {\"POS\": \"PROPN\", \"OP\": \"+\"}]\n",
    "pattern3 = [{\"POS\": \"PROPN\", \"OP\": \"+\"},{\"POS\": \"VERB\", \"LEMMA\": {\"IN\": speak_lemmas}}, {'ORTH': \"'\"}, {'IS_ALPHA': True, \"OP\": \"+\"}, {'IS_PUNCT': True, \"OP\": \"*\"}, {'ORTH': \"'\"}]\n",
    "matcher.add(\"PROPER_NOUNS\", [pattern1, pattern2, pattern3], greedy='LONGEST')\n",
    "for text in data[0][2]:\n",
    "    text = text.replace(\"`\", \"'\")\n",
    "    doc = nlp(text)\n",
    "    matches = matcher(doc)\n",
    "    matches.sort(key = lambda x: x[1])\n",
    "    print (len(matches))\n",
    "    for match in matches[:10]:\n",
    "        print (match, doc[match[1]:match[2]])"
   ]
  },
  {
   "cell_type": "code",
   "execution_count": null,
   "metadata": {},
   "outputs": [],
   "source": []
  }
 ],
 "metadata": {
  "kernelspec": {
   "display_name": "Python 3",
   "language": "python",
   "name": "python3"
  },
  "language_info": {
   "codemirror_mode": {
    "name": "ipython",
    "version": 3
   },
   "file_extension": ".py",
   "mimetype": "text/x-python",
   "name": "python",
   "nbconvert_exporter": "python",
   "pygments_lexer": "ipython3",
   "version": "3.8.5"
  }
 },
 "nbformat": 4,
 "nbformat_minor": 4
}
