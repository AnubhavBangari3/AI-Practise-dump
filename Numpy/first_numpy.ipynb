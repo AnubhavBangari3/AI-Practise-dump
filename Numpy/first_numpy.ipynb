{
 "cells": [
  {
   "cell_type": "code",
   "execution_count": 3,
   "metadata": {},
   "outputs": [],
   "source": [
    "import numpy as np"
   ]
  },
  {
   "cell_type": "code",
   "execution_count": 4,
   "metadata": {},
   "outputs": [
    {
     "data": {
      "text/plain": [
       "array([[1., 0., 0., 0.],\n",
       "       [0., 1., 0., 0.],\n",
       "       [0., 0., 1., 0.],\n",
       "       [0., 0., 0., 1.]])"
      ]
     },
     "execution_count": 4,
     "metadata": {},
     "output_type": "execute_result"
    }
   ],
   "source": [
    "np.eye(4)"
   ]
  },
  {
   "cell_type": "code",
   "execution_count": 5,
   "metadata": {},
   "outputs": [
    {
     "data": {
      "text/plain": [
       "array([0.90281121, 0.50700855, 0.68468688, 0.4064606 ])"
      ]
     },
     "execution_count": 5,
     "metadata": {},
     "output_type": "execute_result"
    }
   ],
   "source": [
    "np.random.rand(4)"
   ]
  },
  {
   "cell_type": "code",
   "execution_count": 6,
   "metadata": {},
   "outputs": [],
   "source": [
    "np.random.seed(100)"
   ]
  },
  {
   "cell_type": "code",
   "execution_count": 8,
   "metadata": {},
   "outputs": [
    {
     "data": {
      "text/plain": [
       "array([0.00471886, 0.12156912, 0.67074908, 0.82585276])"
      ]
     },
     "execution_count": 8,
     "metadata": {},
     "output_type": "execute_result"
    }
   ],
   "source": [
    "np.random.rand(4)"
   ]
  },
  {
   "cell_type": "code",
   "execution_count": 9,
   "metadata": {},
   "outputs": [
    {
     "data": {
      "text/plain": [
       "array([[[0.13670659, 0.57509333, 0.89132195, 0.20920212],\n",
       "        [0.18532822, 0.10837689, 0.21969749, 0.97862378],\n",
       "        [0.81168315, 0.17194101, 0.81622475, 0.27407375],\n",
       "        [0.43170418, 0.94002982, 0.81764938, 0.33611195],\n",
       "        [0.17541045, 0.37283205, 0.00568851, 0.25242635]],\n",
       "\n",
       "       [[0.79566251, 0.01525497, 0.59884338, 0.60380454],\n",
       "        [0.10514769, 0.38194344, 0.03647606, 0.89041156],\n",
       "        [0.98092086, 0.05994199, 0.89054594, 0.5769015 ],\n",
       "        [0.74247969, 0.63018394, 0.58184219, 0.02043913],\n",
       "        [0.21002658, 0.54468488, 0.76911517, 0.25069523]],\n",
       "\n",
       "       [[0.28589569, 0.85239509, 0.97500649, 0.88485329],\n",
       "        [0.35950784, 0.59885895, 0.35479561, 0.34019022],\n",
       "        [0.17808099, 0.23769421, 0.04486228, 0.50543143],\n",
       "        [0.37625245, 0.5928054 , 0.62994188, 0.14260031],\n",
       "        [0.9338413 , 0.94637988, 0.60229666, 0.38776628]],\n",
       "\n",
       "       [[0.363188  , 0.20434528, 0.27676506, 0.24653588],\n",
       "        [0.173608  , 0.96660969, 0.9570126 , 0.59797368],\n",
       "        [0.73130075, 0.34038522, 0.0920556 , 0.46349802],\n",
       "        [0.50869889, 0.08846017, 0.52803522, 0.99215804],\n",
       "        [0.39503593, 0.33559644, 0.80545054, 0.75434899]],\n",
       "\n",
       "       [[0.31306644, 0.63403668, 0.54040458, 0.29679375],\n",
       "        [0.1107879 , 0.3126403 , 0.45697913, 0.65894007],\n",
       "        [0.25425752, 0.64110126, 0.20012361, 0.65762481],\n",
       "        [0.77828922, 0.7795984 , 0.61032815, 0.30900035],\n",
       "        [0.69773491, 0.8596183 , 0.62532376, 0.98240783]]])"
      ]
     },
     "execution_count": 9,
     "metadata": {},
     "output_type": "execute_result"
    }
   ],
   "source": [
    "np.random.rand(5,5,4)"
   ]
  },
  {
   "cell_type": "code",
   "execution_count": 10,
   "metadata": {},
   "outputs": [
    {
     "data": {
      "text/plain": [
       "(5, 5, 4)"
      ]
     },
     "execution_count": 10,
     "metadata": {},
     "output_type": "execute_result"
    }
   ],
   "source": [
    "np.random.rand(5,5,4).shape"
   ]
  },
  {
   "cell_type": "code",
   "execution_count": 11,
   "metadata": {},
   "outputs": [
    {
     "data": {
      "text/plain": [
       "array([-0.00889866, -0.54319801,  0.75306219, -1.6094389 ,  1.94326226,\n",
       "       -1.44743611,  0.13024846])"
      ]
     },
     "execution_count": 11,
     "metadata": {},
     "output_type": "execute_result"
    }
   ],
   "source": [
    "np.random.randn(7)"
   ]
  },
  {
   "cell_type": "code",
   "execution_count": null,
   "metadata": {},
   "outputs": [],
   "source": []
  }
 ],
 "metadata": {
  "kernelspec": {
   "display_name": "Python 3",
   "language": "python",
   "name": "python3"
  },
  "language_info": {
   "codemirror_mode": {
    "name": "ipython",
    "version": 3
   },
   "file_extension": ".py",
   "mimetype": "text/x-python",
   "name": "python",
   "nbconvert_exporter": "python",
   "pygments_lexer": "ipython3",
   "version": "3.8.5"
  }
 },
 "nbformat": 4,
 "nbformat_minor": 4
}
